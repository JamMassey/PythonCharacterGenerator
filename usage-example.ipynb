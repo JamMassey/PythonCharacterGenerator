{
 "cells": [
  {
   "cell_type": "code",
   "execution_count": 1,
   "metadata": {},
   "outputs": [],
   "source": [
    "from matplotlib.pyplot import imshow\n",
    "from gen.char import CharacterGenerator\n",
    "from gen.gif import create_gif_from_attributes\n",
    "#Edit gen.json to change layering instructions and asset rarities.\n",
    "gen = CharacterGenerator(\"gen.json\")"
   ]
  },
  {
   "cell_type": "markdown",
   "metadata": {},
   "source": [
    "Character Generation - Check gen.json for format of layering instructions and asset statistical controls."
   ]
  },
  {
   "cell_type": "code",
   "execution_count": 6,
   "metadata": {},
   "outputs": [
    {
     "name": "stdout",
     "output_type": "stream",
     "text": [
      "Rolled Asset: char5.png in Category: BASE. Instance Chance: 25.0% Cumalitive chance: 25.0%\n",
      "Rolled Asset: eyes_green.png in Category: EYES. Instance Chance: 7.142999999999999% Cumalitive chance: 7.142999999999999%\n",
      "Rolled Asset: basic_blue.png in Category: OUTFIT. Instance Chance: 9.0% Cumalitive chance: 9.0%\n",
      "Rolled Asset: pants_red.png in Category: PANTS. Instance Chance: 9.0% Cumalitive chance: 9.0%\n",
      "Rolled Asset: shoes_black.png in Category: SHOES. Instance Chance: 9.0% Cumalitive chance: 9.0%\n",
      "Rolled Subcategory: HAIR in Category: HEAD. Instance Chance: 90.0% Cumalitive chance: 90.0%\n",
      "Rolled Asset: buzzcut_blonde.png in Category: HAIR. Instance Chance: 6.429% Cumalitive chance: 5.7860000000000005%\n"
     ]
    },
    {
     "data": {
      "text/plain": [
       "<matplotlib.image.AxesImage at 0x1ec5d12c108>"
      ]
     },
     "execution_count": 6,
     "metadata": {},
     "output_type": "execute_result"
    },
    {
     "data": {
      "image/png": "[encoded data removed]",
      "text/plain": [
       "<Figure size 432x288 with 1 Axes>"
      ]
     },
     "metadata": {
      "needs_background": "light"
     },
     "output_type": "display_data"
    }
   ],
   "source": [
    "attributes = gen.generate_visual_attributes()\n",
    "imshow(gen.generate_image(attributes))"
   ]
  },
  {
   "cell_type": "code",
   "execution_count": 7,
   "metadata": {},
   "outputs": [],
   "source": [
    "create_gif_from_attributes(attributes, \"ParsedAssets/animations/walk\" ,\"ParsedAssets/models/\", \"test.gif\")"
   ]
  }
 ],
 "metadata": {
  "interpreter": {
   "hash": "84184a9e85c6df8344591e44325ab2ba8eae83a0ea3734b358da806d82b0d954"
  },
  "kernelspec": {
   "display_name": "Python 3.8.5 64-bit ('base': conda)",
   "language": "python",
   "name": "python3"
  },
  "language_info": {
   "codemirror_mode": {
    "name": "ipython",
    "version": 3
   },
   "file_extension": ".py",
   "mimetype": "text/x-python",
   "name": "python",
   "nbconvert_exporter": "python",
   "pygments_lexer": "ipython3",
   "version": "3.7.11"
  },
  "orig_nbformat": 4
 },
 "nbformat": 4,
 "nbformat_minor": 2
}
